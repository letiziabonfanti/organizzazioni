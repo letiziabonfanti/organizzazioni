{
 "cells": [
  {
   "cell_type": "markdown",
   "id": "5e24f8ab-8899-451e-af92-d8de96550fdd",
   "metadata": {},
   "source": [
    "# RISOTTO ALLO ZAFFERANO"
   ]
  },
  {
   "cell_type": "markdown",
   "id": "f9e098c0-ba8d-4eb2-b4da-08d9a0fc6b5b",
   "metadata": {},
   "source": [
    "Ricetta tratta da [Giallo Zafferano](https://ricette.giallozafferano.it/Risotto-allo-Zafferano.html)"
   ]
  },
  {
   "cell_type": "markdown",
   "id": "80e999d9-8ea6-41ff-b43a-46a541c04efe",
   "metadata": {},
   "source": [
    "____________________________"
   ]
  },
  {
   "cell_type": "markdown",
   "id": "4837ebba-195e-4c75-805d-25589bed4cc5",
   "metadata": {},
   "source": [
    "Lo zafferano è una spezia antica, conosciuta già al tempo degli egizi. In principio si usava solo per tingere le stoffe e realizzare profumi e unguenti ma una volta scoperte le sue stupefacenti proprietà culinarie, divenne un ingrediente pregiato con il quale realizzare gustosi piatti dalle sfumature dorate come il risotto allo zafferano, conosciuto anche come risotto alla milanese o la pasta. Questo primo piatto, nella sua essenzialità, esalta al meglio le qualità aromatiche dello zafferano ma non solo, grazie al forte potere colorante, i chicchi di riso si impreziosiscono di un gradevole e accattivante color oro che rende così speciale questa pietanza. Una piccola magia che unita al tocco cremoso della mantecatura, immancabile nella preparazione dei risotti, vi restituirà un risotto dal gusto unico e inconfondibile. Chiamatelo risotto alla milanese, o risotto allo zafferano, in ogni caso vi sorprenderà con la sua semplicità!"
   ]
  },
  {
   "cell_type": "markdown",
   "id": "907749c4-af8d-4471-a498-a850b3683d2f",
   "metadata": {},
   "source": [
    "![Risotto allo zafferano](Risotto2.png)"
   ]
  },
  {
   "cell_type": "markdown",
   "id": "1769cd1b-e266-48f7-8917-0123ba12de71",
   "metadata": {},
   "source": [
    "## INGREDIENTI"
   ]
  },
  {
   "cell_type": "markdown",
   "id": "416376f7-ad52-4d7a-93e8-15c86df7db5f",
   "metadata": {},
   "source": [
    "- Zafferano\n",
    "- Riso carnaroli\n",
    "- Burro\n",
    "- Grana Padano\n",
    "- Brodo vegetale\n",
    "- Vino bianco\n",
    "- Acqua"
   ]
  },
  {
   "cell_type": "markdown",
   "id": "fef1da0d-4063-4ce9-86e1-8ac5c05b1068",
   "metadata": {},
   "source": [
    "### Informazioni"
   ]
  },
  {
   "cell_type": "markdown",
   "id": "28856f02-4220-456e-837b-7494cc9e5513",
   "metadata": {},
   "source": [
    "**Difficoltà**: Media \\\n",
    "**Preparazione**: 5 minuti \\\n",
    "**Cottura**: 25 minuti \\\n",
    "**Costo**: medio "
   ]
  },
  {
   "cell_type": "markdown",
   "id": "8eba5fa5-c015-4520-8042-07988c45b7bc",
   "metadata": {},
   "source": [
    "## DOSI"
   ]
  },
  {
   "cell_type": "code",
   "execution_count": 3,
   "id": "e6ecb204-187d-4f6d-aec3-889701903e3b",
   "metadata": {},
   "outputs": [],
   "source": [
    "persone = 2"
   ]
  },
  {
   "cell_type": "markdown",
   "id": "b65d0f21-5543-40f8-92a3-4ce63a77ed86",
   "metadata": {},
   "source": [
    "#### Riso (in grammi)"
   ]
  },
  {
   "cell_type": "code",
   "execution_count": 4,
   "id": "30c84961-78ee-4fc9-aefe-51e77241b8c7",
   "metadata": {},
   "outputs": [
    {
     "data": {
      "text/plain": [
       "160"
      ]
     },
     "execution_count": 4,
     "metadata": {},
     "output_type": "execute_result"
    }
   ],
   "source": [
    "#RISO IN GRAMMI\n",
    "persone*80"
   ]
  },
  {
   "cell_type": "code",
   "execution_count": null,
   "id": "9c65300c-56a6-4eeb-8ffb-a460946bc09b",
   "metadata": {},
   "outputs": [],
   "source": []
  }
 ],
 "metadata": {
  "kernelspec": {
   "display_name": "Python 3 (ipykernel)",
   "language": "python",
   "name": "python3"
  },
  "language_info": {
   "codemirror_mode": {
    "name": "ipython",
    "version": 3
   },
   "file_extension": ".py",
   "mimetype": "text/x-python",
   "name": "python",
   "nbconvert_exporter": "python",
   "pygments_lexer": "ipython3",
   "version": "3.9.7"
  }
 },
 "nbformat": 4,
 "nbformat_minor": 5
}
