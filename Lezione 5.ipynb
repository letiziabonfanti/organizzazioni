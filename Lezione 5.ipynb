{
 "cells": [
  {
   "cell_type": "code",
   "execution_count": 2,
   "id": "df9b65c2-224d-4510-b99b-9e081e9da897",
   "metadata": {},
   "outputs": [],
   "source": [
    "import numpy as np"
   ]
  },
  {
   "cell_type": "code",
   "execution_count": 23,
   "id": "4eb6aa9f-d159-45a2-ba3f-63902600ba10",
   "metadata": {},
   "outputs": [
    {
     "data": {
      "text/plain": [
       "array([0, 0, 0, 0, 0, 0, 0, 0, 0, 0, 0])"
      ]
     },
     "execution_count": 23,
     "metadata": {},
     "output_type": "execute_result"
    }
   ],
   "source": [
    "#Lista con tutti 0\n",
    "np.zeros(11, dtype=int)"
   ]
  },
  {
   "cell_type": "code",
   "execution_count": 24,
   "id": "2dfdcb40-a533-4bd7-b1f1-2234dceb3a16",
   "metadata": {},
   "outputs": [
    {
     "data": {
      "text/plain": [
       "array([[1., 1., 1., 1., 1.],\n",
       "       [1., 1., 1., 1., 1.],\n",
       "       [1., 1., 1., 1., 1.],\n",
       "       [1., 1., 1., 1., 1.]])"
      ]
     },
     "execution_count": 24,
     "metadata": {},
     "output_type": "execute_result"
    }
   ],
   "source": [
    "#Tabella 4x5 con tutti 1 decimale. Vettore bidimensionale, matrice con due dimensioni (4=righe, 5=colonne)\n",
    "np.ones((4, 5), dtype=float)"
   ]
  },
  {
   "cell_type": "code",
   "execution_count": 33,
   "id": "5d6e8232-3520-4725-ae8b-a0e33010c3b4",
   "metadata": {},
   "outputs": [
    {
     "data": {
      "text/plain": [
       "array([[6.19, 6.19, 6.19, 6.19, 6.19, 6.19, 6.19, 6.19, 6.19],\n",
       "       [6.19, 6.19, 6.19, 6.19, 6.19, 6.19, 6.19, 6.19, 6.19],\n",
       "       [6.19, 6.19, 6.19, 6.19, 6.19, 6.19, 6.19, 6.19, 6.19],\n",
       "       [6.19, 6.19, 6.19, 6.19, 6.19, 6.19, 6.19, 6.19, 6.19],\n",
       "       [6.19, 6.19, 6.19, 6.19, 6.19, 6.19, 6.19, 6.19, 6.19],\n",
       "       [6.19, 6.19, 6.19, 6.19, 6.19, 6.19, 6.19, 6.19, 6.19]])"
      ]
     },
     "execution_count": 33,
     "metadata": {},
     "output_type": "execute_result"
    }
   ],
   "source": [
    "# Create a 6x9 array filled with 6.19 (6 righe, 9 colonne)\n",
    "np.full((6, 9), 6.19)"
   ]
  },
  {
   "cell_type": "code",
   "execution_count": 26,
   "id": "fc7772cb-c49e-4ec5-b073-7c9f83827b4d",
   "metadata": {
    "tags": []
   },
   "outputs": [
    {
     "data": {
      "text/plain": [
       "array([ 0,  2,  4,  6,  8, 10, 12, 14, 16, 18, 20, 22, 24, 26, 28, 30])"
      ]
     },
     "execution_count": 26,
     "metadata": {},
     "output_type": "execute_result"
    }
   ],
   "source": [
    "# Create an array filled with a linear sequence\n",
    "# Starting at 0, ending at 32, stepping by 2\n",
    "np.arange(0, 32, 2)"
   ]
  },
  {
   "cell_type": "code",
   "execution_count": 38,
   "id": "a8624b8e-d340-4560-ad49-676835f339f0",
   "metadata": {},
   "outputs": [
    {
     "data": {
      "text/plain": [
       "array([12, 15, 18, 21, 24, 27, 30, 33, 36, 39, 42, 45, 48])"
      ]
     },
     "execution_count": 38,
     "metadata": {},
     "output_type": "execute_result"
    }
   ],
   "source": [
    "np.arange(12, 50, 3)"
   ]
  },
  {
   "cell_type": "code",
   "execution_count": 43,
   "id": "585edf20-eed6-42fa-809c-ffddb3cbf444",
   "metadata": {},
   "outputs": [
    {
     "data": {
      "text/plain": [
       "array([3, 4, 5, 6, 7, 8, 9])"
      ]
     },
     "execution_count": 43,
     "metadata": {},
     "output_type": "execute_result"
    }
   ],
   "source": [
    "np.arange(3, 10)"
   ]
  },
  {
   "cell_type": "code",
   "execution_count": 27,
   "id": "0dd853ad-ff5a-4e25-8af7-601a1d64e16e",
   "metadata": {},
   "outputs": [
    {
     "data": {
      "text/plain": [
       "array([0. , 0.5, 1. , 1.5, 2. ])"
      ]
     },
     "execution_count": 27,
     "metadata": {},
     "output_type": "execute_result"
    }
   ],
   "source": [
    "# Create an array of five values evenly spaced between 0 and 2\n",
    "np.linspace(0, 2, 5)"
   ]
  },
  {
   "cell_type": "code",
   "execution_count": 28,
   "id": "7cbce645-b189-4a4b-a4be-608368d52dba",
   "metadata": {},
   "outputs": [
    {
     "data": {
      "text/plain": [
       "array([[0.54409068, 0.1545792 , 0.62329481],\n",
       "       [0.71651434, 0.03041994, 0.41262395],\n",
       "       [0.14789634, 0.22480725, 0.90020628],\n",
       "       [0.09195729, 0.6092998 , 0.87692423]])"
      ]
     },
     "execution_count": 28,
     "metadata": {},
     "output_type": "execute_result"
    }
   ],
   "source": [
    "# Create a 4x3 array of uniformly distributed\n",
    "# random values between 0 and 1\n",
    "np.random.random((4, 3))"
   ]
  },
  {
   "cell_type": "code",
   "execution_count": 29,
   "id": "3a3c46a5-b24b-4d56-a0e4-939004e6a246",
   "metadata": {},
   "outputs": [
    {
     "data": {
      "text/plain": [
       "array([[-0.00718831, -0.98993003, -1.70509672],\n",
       "       [-0.03356511, -0.79742267,  0.64537163],\n",
       "       [-0.36581092,  1.54121146, -3.08232641]])"
      ]
     },
     "execution_count": 29,
     "metadata": {},
     "output_type": "execute_result"
    }
   ],
   "source": [
    "# Create a 3x3 array of normally distributed random values\n",
    "# with mean 0 and standard deviation 1\n",
    "np.random.normal(0, 1, (3, 3))"
   ]
  },
  {
   "cell_type": "code",
   "execution_count": 30,
   "id": "ce9a35a7-df82-4c52-b9df-448c0a8d771f",
   "metadata": {},
   "outputs": [
    {
     "data": {
      "text/plain": [
       "array([[8, 2, 5],\n",
       "       [7, 4, 2],\n",
       "       [8, 2, 5]])"
      ]
     },
     "execution_count": 30,
     "metadata": {},
     "output_type": "execute_result"
    }
   ],
   "source": [
    "# Create a 3x3 array of random integers in the interval [0, 10)\n",
    "np.random.randint(0, 10, (3, 3))"
   ]
  },
  {
   "cell_type": "code",
   "execution_count": 31,
   "id": "7b203950-92d4-48c0-a03b-028ec073eac7",
   "metadata": {},
   "outputs": [
    {
     "data": {
      "text/plain": [
       "array([[1., 0., 0.],\n",
       "       [0., 1., 0.],\n",
       "       [0., 0., 1.]])"
      ]
     },
     "execution_count": 31,
     "metadata": {},
     "output_type": "execute_result"
    }
   ],
   "source": [
    "# Create a 3x3 identity matrix\n",
    "np.eye(3)"
   ]
  },
  {
   "cell_type": "markdown",
   "id": "c0b9d6b8-eb25-4d6f-910b-5909e9290e1a",
   "metadata": {},
   "source": [
    "<font color='red'>Guardare su numpy la specificità di ogni funzione utilizzata in questa lezione e inserire a cosa serve sul file di Numbers e guardare capitolo 2.1 e 2.2 </font>"
   ]
  },
  {
   "cell_type": "code",
   "execution_count": null,
   "id": "ae73593b-d24d-4e88-a0e9-76df61b392ee",
   "metadata": {},
   "outputs": [],
   "source": []
  }
 ],
 "metadata": {
  "kernelspec": {
   "display_name": "Python 3 (ipykernel)",
   "language": "python",
   "name": "python3"
  },
  "language_info": {
   "codemirror_mode": {
    "name": "ipython",
    "version": 3
   },
   "file_extension": ".py",
   "mimetype": "text/x-python",
   "name": "python",
   "nbconvert_exporter": "python",
   "pygments_lexer": "ipython3",
   "version": "3.9.7"
  }
 },
 "nbformat": 4,
 "nbformat_minor": 5
}
